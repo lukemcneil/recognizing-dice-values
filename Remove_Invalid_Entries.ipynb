{
 "cells": [
  {
   "cell_type": "code",
   "execution_count": 1,
   "id": "designing-valve",
   "metadata": {},
   "outputs": [],
   "source": [
    "import pandas as pd\n",
    "import numpy as np\n",
    "import matplotlib.pyplot as plt"
   ]
  },
  {
   "cell_type": "code",
   "execution_count": 2,
   "id": "cff4b8dc",
   "metadata": {},
   "outputs": [],
   "source": [
    "path = \"/work/MA490_DeepLearning/Share/Dice/\""
   ]
  },
  {
   "cell_type": "code",
   "execution_count": 3,
   "id": "guided-administration",
   "metadata": {
    "scrolled": true
   },
   "outputs": [
    {
     "name": "stdout",
     "output_type": "stream",
     "text": [
      "(2768, 32, 32, 3)\n",
      "(2768,)\n"
     ]
    }
   ],
   "source": [
    "n='32'\n",
    "MNIST = np.load(path+'CleanedDiceData' + n + '.npz')\n",
    "images = MNIST['images']\n",
    "labels = MNIST['labels']\n",
    "print(images.shape)\n",
    "print(labels.shape)"
   ]
  },
  {
   "cell_type": "code",
   "execution_count": 4,
   "id": "superior-planner",
   "metadata": {},
   "outputs": [
    {
     "data": {
      "text/plain": [
       "d4,1     117\n",
       "d4,3     116\n",
       "d4,2     106\n",
       "d4,4     105\n",
       "d6,2     104\n",
       "        ... \n",
       "d%9        1\n",
       "d%1        1\n",
       "d%,30      1\n",
       "d%,20      1\n",
       "w12,7      1\n",
       "Length: 85, dtype: int64"
      ]
     },
     "execution_count": 4,
     "metadata": {},
     "output_type": "execute_result"
    }
   ],
   "source": [
    "pd.DataFrame(labels).value_counts()"
   ]
  },
  {
   "cell_type": "code",
   "execution_count": 5,
   "id": "ea2861cb",
   "metadata": {},
   "outputs": [],
   "source": [
    " def remove_invalid_dice_entries(images, labels):\n",
    "    validEntries = []\n",
    "    diceTypes = [4, 6, 8, 10, 12, 20]\n",
    "    for shape in diceTypes:\n",
    "        for i in range(shape):\n",
    "            validEntries.append('d' + str(shape) + ',' + str(i+1))\n",
    "\n",
    "    for i in range(10):\n",
    "        validEntries.append('d%,' + str(i+1))\n",
    "    ix = []\n",
    "    for i in range(len(labels)):\n",
    "        if (labels[i] not in validEntries):\n",
    "            ix.append(i)\n",
    "    new_labels = np.delete(labels, ix, axis=0)\n",
    "    new_images = np.delete(images, ix, axis=0)\n",
    "    return new_images, new_labels"
   ]
  },
  {
   "cell_type": "code",
   "execution_count": 6,
   "id": "19b6e5fb",
   "metadata": {},
   "outputs": [
    {
     "data": {
      "text/plain": [
       "d4,1      117\n",
       "d4,3      116\n",
       "d4,2      106\n",
       "d4,4      105\n",
       "d6,2      104\n",
       "         ... \n",
       "d20,7       8\n",
       "d20,20      8\n",
       "d20,16      5\n",
       "d20,1       4\n",
       "d20,14      3\n",
       "Length: 70, dtype: int64"
      ]
     },
     "execution_count": 6,
     "metadata": {},
     "output_type": "execute_result"
    }
   ],
   "source": [
    "images, labels = remove_invalid_dice_entries(images, labels)\n",
    "pd.DataFrame(labels).value_counts()"
   ]
  },
  {
   "cell_type": "code",
   "execution_count": 7,
   "id": "33b28d37",
   "metadata": {},
   "outputs": [
    {
     "name": "stdout",
     "output_type": "stream",
     "text": [
      "(2751, 32, 32, 3)\n",
      "(2751,)\n"
     ]
    }
   ],
   "source": [
    "print(images.shape)\n",
    "print(labels.shape)"
   ]
  },
  {
   "cell_type": "code",
   "execution_count": null,
   "id": "aeb092e7",
   "metadata": {},
   "outputs": [],
   "source": []
  }
 ],
 "metadata": {
  "kernelspec": {
   "display_name": "Python 3",
   "language": "python",
   "name": "python3"
  },
  "language_info": {
   "codemirror_mode": {
    "name": "ipython",
    "version": 3
   },
   "file_extension": ".py",
   "mimetype": "text/x-python",
   "name": "python",
   "nbconvert_exporter": "python",
   "pygments_lexer": "ipython3",
   "version": "3.7.11"
  }
 },
 "nbformat": 4,
 "nbformat_minor": 5
}
